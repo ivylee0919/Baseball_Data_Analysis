{
 "cells": [
  {
   "cell_type": "markdown",
   "metadata": {},
   "source": [
    "# 棒球数据分析"
   ]
  },
  {
   "cell_type": "markdown",
   "metadata": {},
   "source": [
    "## 初步了解数据集\n",
    "MLB棒球数据集，内容包含了各个层面，包括从 1871 年到 2014 年完整的棒球赛击球和投球数据，还包括防守数据、排名、球队数据、管理记录、季后赛数据等等。由于棒球运动在中国并不是很流行，所以很多学生对棒球运动几乎一无所知，我也是这样，但是通过搜索了解，还是可以获得一些粗浅的棒球知识，可以从中找到自己想要分析的问题。\n",
    "\n",
    "### 数据简介\n",
    "\n",
    "1. BMI指数（即身体质量指数，简称体质指数又称体重，英文为Body Mass Index，简称BMI），是用体重公斤数除以身高米数平方得出的数字，是目前国际上常用的衡量人体胖瘦程度以及是否健康的一个标准。但是对于运动员来说，肥胖标准代表的可能是强壮。BMI = weight(kg)/height(m)`**`2\n",
    "2. 服役年限：career_years = yearID - debut.dt.year\n",
    "3. IsoP：纯长打率（英文：Isolated Power）纯长打率可用来评断一位打者的长打能力。纯长打率 = 长打率 - 打击率。其中打击率是棒球运动中，评量打者（击球员）成绩的重要指标。长打率为一般衡量长打能力的数字。字面上的解释应该是“出现长打的概率”，但事实上，更深层的意义是“每一次打击可以贡献几个垒包”。纯长打率计算公式如下：\n",
    "\n",
    "![纯长打率公式](https://wikimedia.org/api/rest_v1/media/math/render/svg/dbd2e3215be4bf16e4c6ff96daeba5763c3efe31)\n",
    "\n",
    "### 检查公式所需数据\n",
    "通过检查，发现缺少一个数据：1B —— 一垒安打，查询[如何计算长打率](http://www.wikihow.com/Calculate-Slugging-Percentage)得到长打率替代公式：**`SLG = (H + 2B + (2 x 3B) + (3 x HR))/AB`**，即 **`IsoP = (H + 2B + (2 x 3B) + (3 x HR))/AB - H/AB`**\n",
    "\n",
    "### 提出问题\n",
    "\n",
    "1. 出生月份是否与成为明星球员有相关性？（受到冰球运动员的数据启发）\n",
    "2. 身体条件（BMI标准体重）与纯长打率（衡量长打能力的指标）的相关性\n",
    "3. 服役年限与当年纯长打率的相关性\n",
    "\n",
    "### 问题预测\n",
    "\n",
    "1. 没有明显猜测，只是单纯好奇，很大可能不相关\n",
    "2. 猜测 BMI 值处于标准和偏胖的人（猜测这个范围内的人有更强的力量）有更好的长打能力体现\n",
    "3. 对于运动员来说，通常在服役年限前期，应该是能力的上升期，而在服役年限的后期，应该是能力的下降区域。"
   ]
  },
  {
   "cell_type": "markdown",
   "metadata": {},
   "source": [
    "## 熟悉具体数据集："
   ]
  },
  {
   "cell_type": "markdown",
   "metadata": {},
   "source": [
    "### 导入数据表\n",
    "* 导入库"
   ]
  },
  {
   "cell_type": "code",
   "execution_count": 1,
   "metadata": {
    "collapsed": false
   },
   "outputs": [],
   "source": [
    "#导入库\n",
    "%matplotlib inline \n",
    "import matplotlib.pyplot as plt\n",
    "import numpy as np\n",
    "import pandas as pd\n",
    "import seaborn as sns"
   ]
  },
  {
   "cell_type": "markdown",
   "metadata": {},
   "source": [
    "* 从CSV文件中导入数据"
   ]
  },
  {
   "cell_type": "code",
   "execution_count": 2,
   "metadata": {
    "collapsed": false,
    "scrolled": true
   },
   "outputs": [],
   "source": [
    "beating_df  = pd.read_csv(\"Batting.csv\")\n",
    "players_df  = pd.read_csv(\"Master.csv\")\n",
    "awards_players_df = pd.read_csv(\"AwardsPlayers.csv\")"
   ]
  },
  {
   "cell_type": "markdown",
   "metadata": {},
   "source": [
    "### 熟悉数据\n",
    "使用 info 查看数据信息，我们发现需要的数据项有：\n",
    "\n",
    "#### `beating_df`\n",
    "* playerID  —— 球员ID\n",
    "* yearID —— 当年年份\n",
    "* stint —— 球员在同一赛季的服役顺序\n",
    "* G —— 比赛场数（Games）\n",
    "* AB —— 打数（At Bats）打者完成一次打击，且这次打击并非是成功的牺牲触击、保送、高飞牺牲打的次数\n",
    "* R —— 得分（Runs）合法及安全回到本垒的次数\n",
    "* H —— 安打（Hits）在没有失误的情况下，打者把投手投出来的球，击出到界内，使打者本身能至少安全上到一垒\n",
    "* 2B —— 二垒（Doubles）能使打者在没有守备失误的情况下，安全到达二垒的打击\n",
    "* 3B —— 三垒（Triples）能使打者在没有守备失误的情况下，安全到达三垒的打击\n",
    "* HR —— 本垒打（Homeruns）在没有失误的情况下，跑者一次跑完四个垒包\n",
    "\n",
    "#### `players_df`\n",
    "* playerID —— 球员ID\n",
    "* birthYear —— 出生年\n",
    "* birthMonth —— 出生月\n",
    "* birthDay —— 出生日\n",
    "* weight —— 体重（单位：磅 pound）\n",
    "* height —— 身高（单位：英寸 inch）\n",
    "* debut —— 在大联盟的首次出场日期\n",
    "* finalGame —— 在大联盟的最后一场比赛日期（如果仍在活跃则为空）\n",
    "\n",
    "#### `awards_players_df`\n",
    "* playerID —— 球员ID\n",
    "* awardID —— 奖项ID\n",
    "* yearID —— 年份\n"
   ]
  },
  {
   "cell_type": "markdown",
   "metadata": {},
   "source": [
    "### 数据整理\n",
    "现在我们需要的数据都有了，那么根据我们提出的问题，将数据进行处理：\n",
    "#### 问题1相关数据"
   ]
  },
  {
   "cell_type": "code",
   "execution_count": 3,
   "metadata": {
    "collapsed": false
   },
   "outputs": [
    {
     "name": "stdout",
     "output_type": "stream",
     "text": [
      "<class 'pandas.core.frame.DataFrame'>\n",
      "Float64Index: 12 entries, 1.0 to 12.0\n",
      "Data columns (total 2 columns):\n",
      "(playerID, count)    12 non-null int64\n",
      "(awardID, count)     12 non-null int64\n",
      "dtypes: int64(2)\n",
      "memory usage: 288.0 bytes\n"
     ]
    }
   ],
   "source": [
    "#合并获奖球员信息和球员信息，获取每个球员的出生月份\n",
    "award_process = pd.merge(awards_players_df.loc[:,['playerID','awardID']], players_df.loc[:,['playerID','birthMonth']], \n",
    "                         on=['playerID'], how='right')\n",
    "\n",
    "#填充缺失值为0\n",
    "players_type = award_process.fillna({'birthMonth':0})\n",
    "\n",
    "#取出出生月份不等于0的数据，根据出生月份将数据分组，计数\n",
    "players_type = players_type[players_type['birthMonth'] != 0]\n",
    "players_grouped = players_type.groupby(['birthMonth']).agg(['count'])\n",
    "players_grouped.info()"
   ]
  },
  {
   "cell_type": "markdown",
   "metadata": {},
   "source": [
    "#### 问题2相关数据\n",
    "公式：\n",
    "* IsoP = (H + 2B + (2 x 3B) + (3 x HR))/AB - H/AB     \n",
    "* BMI = weight(kg)/(height(m)/*height(m))"
   ]
  },
  {
   "cell_type": "code",
   "execution_count": 4,
   "metadata": {
    "collapsed": false
   },
   "outputs": [
    {
     "name": "stdout",
     "output_type": "stream",
     "text": [
      "<class 'pandas.core.frame.DataFrame'>\n",
      "Int64Index: 8574 entries, 1 to 18657\n",
      "Data columns (total 7 columns):\n",
      "playerID    8574 non-null object\n",
      "AB          8574 non-null float64\n",
      "H           8574 non-null float64\n",
      "2B          8574 non-null float64\n",
      "3B          8574 non-null float64\n",
      "HR          8574 non-null float64\n",
      "IsoP        8574 non-null float64\n",
      "dtypes: float64(6), object(1)\n",
      "memory usage: 535.9+ KB\n"
     ]
    }
   ],
   "source": [
    "#累加每个球员的所有能力指标数据备用\n",
    "beating_select = beating_df[['playerID','AB','H','2B','3B','HR']]\n",
    "beating_grouped = beating_select.groupby(['playerID'], as_index = False).sum()\n",
    "\n",
    "#AB打数太少，计算纯长打率的价值不大，截取AB大于100的数据进行研究\n",
    "beating_grouped = beating_grouped[beating_grouped['AB'] > 100]\n",
    "\n",
    "#按公式进行向量计算，求IsoP\n",
    "beating_grouped[\"IsoP\"] = (beating_grouped['H'] + beating_grouped['2B'] + (2 * beating_grouped['3B']) + (3 * beating_grouped['HR'])) / beating_grouped['AB'] - beating_grouped['H'] / beating_grouped['AB'] \n",
    "\n",
    "#截取IsoP大于0的数据进行分析并查看各项描述统计学数据\n",
    "beating_grouped = beating_grouped[beating_grouped['IsoP'] > 0]\n",
    "beating_grouped.info()"
   ]
  },
  {
   "cell_type": "code",
   "execution_count": 5,
   "metadata": {
    "collapsed": false
   },
   "outputs": [
    {
     "name": "stdout",
     "output_type": "stream",
     "text": [
      "<class 'pandas.core.frame.DataFrame'>\n",
      "Int64Index: 17918 entries, 0 to 18845\n",
      "Data columns (total 4 columns):\n",
      "playerID     17918 non-null object\n",
      "weight_kg    17918 non-null float64\n",
      "height_m     17918 non-null float64\n",
      "BMI          17918 non-null float64\n",
      "dtypes: float64(3), object(1)\n",
      "memory usage: 699.9+ KB\n"
     ]
    }
   ],
   "source": [
    "#选择球员数据中的身高和体重，填充空值为0\n",
    "players_select = players_df[['playerID','weight','height']].fillna(0)\n",
    "\n",
    "#选择身高和体重数据大于0的球员，转换身高和体重的单位\n",
    "players_select = players_select[(players_select['weight']>0) & (players_select['height']>0)]\n",
    "players_select['weight_kg'] = players_select['weight'] * 0.4535924\n",
    "players_select['height_m'] = players_select['height'] * 0.0254\n",
    "del players_select['weight']\n",
    "del players_select['height']\n",
    "\n",
    "#按照公式求 BMI\n",
    "players_select['BMI'] = players_select['weight_kg'] / (players_select['height_m'] * players_select['height_m'])\n",
    "players_select.info()"
   ]
  },
  {
   "cell_type": "code",
   "execution_count": 6,
   "metadata": {
    "collapsed": false
   },
   "outputs": [
    {
     "data": {
      "text/plain": [
       "<matplotlib.axes._subplots.AxesSubplot at 0xb97d7f0>"
      ]
     },
     "execution_count": 6,
     "metadata": {},
     "output_type": "execute_result"
    },
    {
     "data": {
      "image/png": "[encoded data removed]",
      "text/plain": [
       "<matplotlib.figure.Figure at 0x47389b0>"
      ]
     },
     "metadata": {},
     "output_type": "display_data"
    }
   ],
   "source": [
    "#BMI值直方图分布\n",
    "sns.distplot(players_select['BMI'])"
   ]
  },
  {
   "cell_type": "markdown",
   "metadata": {},
   "source": [
    "根据以上分布情况，发现球员基本上处于20-35的区间内，这也是有道理的，因为运动员需要有基本的身体素质，所以可以只在标准、超重和肥胖的范围内分析。"
   ]
  },
  {
   "cell_type": "code",
   "execution_count": 7,
   "metadata": {
    "collapsed": false
   },
   "outputs": [
    {
     "name": "stdout",
     "output_type": "stream",
     "text": [
      "<class 'pandas.core.frame.DataFrame'>\n",
      "Int64Index: 8410 entries, 0 to 8409\n",
      "Data columns (total 4 columns):\n",
      "playerID     8410 non-null object\n",
      "IsoP         8410 non-null float64\n",
      "BMI          8410 non-null float64\n",
      "BMI_level    8408 non-null category\n",
      "dtypes: category(1), float64(2), object(1)\n",
      "memory usage: 271.1+ KB\n"
     ]
    }
   ],
   "source": [
    "#合并以上两个处理后的数据集，选取需要的数据项\n",
    "beating_players_df = pd.merge(beating_grouped.loc[:,['playerID','IsoP']], players_select.loc[:,['playerID','BMI']], \n",
    "                              on=['playerID'], how='inner')\n",
    "\n",
    "# 按照(18.5,23],(23,25],(25,27],(27,30],(30,40]分类，对应名称'Normal_1','Normal_2','Overweight_1','Overweight_2','Obese'\n",
    "# 对应标准1、标准2、超重1、超重2、肥胖（对于运动员来说应该是强壮，以下用强壮代指Obese阶段）\n",
    "bmi_array = beating_players_df['BMI']\n",
    "bins = [18.5,23,25,27,30,40]\n",
    "bmi_level = ['Normal_1','Normal_2','Overweight_1','Overweight_2','Obese']\n",
    "beating_players_df['BMI_level'] = pd.cut(beating_players_df['BMI'], bins,labels = bmi_level)\n",
    "beating_players_df.info()"
   ]
  },
  {
   "cell_type": "markdown",
   "metadata": {},
   "source": [
    "通过 beating_players_df.info() 我们看到 BMI_level 只有 2 项缺失值，说明只有 2 个数据没有被我们的分组包含在内，这是可以接受的。我们可以将缺失值的数据项去掉。"
   ]
  },
  {
   "cell_type": "code",
   "execution_count": 8,
   "metadata": {
    "collapsed": false
   },
   "outputs": [
    {
     "name": "stdout",
     "output_type": "stream",
     "text": [
      "<class 'pandas.core.frame.DataFrame'>\n",
      "Int64Index: 8408 entries, 0 to 8409\n",
      "Data columns (total 4 columns):\n",
      "playerID     8408 non-null object\n",
      "IsoP         8408 non-null float64\n",
      "BMI          8408 non-null float64\n",
      "BMI_level    8408 non-null category\n",
      "dtypes: category(1), float64(2), object(1)\n",
      "memory usage: 271.0+ KB\n"
     ]
    }
   ],
   "source": [
    "#滤除缺失数据\n",
    "beating_players_df = beating_players_df.dropna()\n",
    "beating_players_df.info()"
   ]
  },
  {
   "cell_type": "markdown",
   "metadata": {},
   "source": [
    "#### 问题3相关数据"
   ]
  },
  {
   "cell_type": "code",
   "execution_count": 9,
   "metadata": {
    "collapsed": true
   },
   "outputs": [],
   "source": [
    "#问题3中涉及到日期格式，需要转换\n",
    "from dateutil.parser import parse\n",
    "from types import *\n",
    "def parse_date(date):\n",
    "    '''该函数接收一个数据，如果其为字符串格式，则转换为日期格式并返回'''\n",
    "    if type(date) is StringType:\n",
    "        date = parse(date)\n",
    "        return date"
   ]
  },
  {
   "cell_type": "code",
   "execution_count": 10,
   "metadata": {
    "collapsed": false
   },
   "outputs": [
    {
     "name": "stdout",
     "output_type": "stream",
     "text": [
      "<class 'pandas.core.frame.DataFrame'>\n",
      "Int64Index: 10368 entries, 0 to 10367\n",
      "Data columns (total 3 columns):\n",
      "playerID    10368 non-null object\n",
      "IsoP        10368 non-null float64\n",
      "career      10368 non-null int64\n",
      "dtypes: float64(1), int64(1), object(1)\n",
      "memory usage: 324.0+ KB\n"
     ]
    }
   ],
   "source": [
    "#选出问题3需要的数据项\n",
    "players_select2 = players_df[['playerID','debut']]\n",
    "beating_select2 = beating_df[['playerID','yearID','AB','H','2B','3B','HR']]\n",
    "\n",
    "#按每个队员每年来分组，计算各项指标和（因为球员每年也有可能不只在一个球队）\n",
    "beating_grouped2 = beating_select2.groupby(['playerID','yearID'], as_index = False).sum()\n",
    "\n",
    "#选出打数AB超过50的球员进行分析（太少没有参考价值，可能不是专职击球员）\n",
    "beating_grouped2 = beating_grouped2[beating_grouped2['AB'] > 50]\n",
    "\n",
    "#按照公式计算每年的IsoP，选择1995年之后的数据进行研究（1995年后是新赛制规则，避免因为赛制规则产生的变化）\n",
    "beating_grouped2['IsoP'] = (beating_grouped2['H'] + beating_grouped2['2B'] + (2 * beating_grouped2['3B']) + (3 * beating_grouped2['HR'])) / beating_grouped2['AB'] - beating_grouped2['H'] / beating_grouped2['AB']\n",
    "beating_grouped2 = beating_grouped2[(beating_grouped2['IsoP'] > 0)&(beating_grouped2['yearID'] > 1995)]\n",
    "\n",
    "#合并球员服役数据和球员每年的IsoP指标数据\n",
    "beating_players_year = pd.merge(beating_grouped2.loc[:,['playerID','yearID','IsoP']], players_select2.loc[:,['playerID','debut']], \n",
    "                              on=['playerID'], how='inner')\n",
    "\n",
    "#用我们之前定义的 parse_date 函数将 debut 转换为日期格式\n",
    "beating_players_year['debut'] = beating_players_year['debut'].apply(parse_date)\n",
    "\n",
    "#用当前yearID减去首次出场（debut）的年份，得出服役年限\n",
    "beating_players_year['career'] = beating_players_year['yearID'] - beating_players_year['debut'].dt.year\n",
    "del beating_players_year['yearID']\n",
    "del beating_players_year['debut']\n",
    "beating_players_year.info()"
   ]
  },
  {
   "cell_type": "markdown",
   "metadata": {},
   "source": [
    "### 数据分析\n",
    "#### 问题1 分析"
   ]
  },
  {
   "cell_type": "code",
   "execution_count": 11,
   "metadata": {
    "collapsed": false
   },
   "outputs": [
    {
     "data": {
      "text/html": [
       "<div>\n",
       "<table border=\"1\" class=\"dataframe\">\n",
       "  <thead>\n",
       "    <tr>\n",
       "      <th></th>\n",
       "      <th>playerID</th>\n",
       "      <th>awardID</th>\n",
       "    </tr>\n",
       "    <tr>\n",
       "      <th></th>\n",
       "      <th>count</th>\n",
       "      <th>count</th>\n",
       "    </tr>\n",
       "    <tr>\n",
       "      <th>birthMonth</th>\n",
       "      <th></th>\n",
       "      <th></th>\n",
       "    </tr>\n",
       "  </thead>\n",
       "  <tbody>\n",
       "    <tr>\n",
       "      <th>1.0</th>\n",
       "      <td>1856</td>\n",
       "      <td>335</td>\n",
       "    </tr>\n",
       "    <tr>\n",
       "      <th>2.0</th>\n",
       "      <td>1749</td>\n",
       "      <td>434</td>\n",
       "    </tr>\n",
       "    <tr>\n",
       "      <th>3.0</th>\n",
       "      <td>1874</td>\n",
       "      <td>472</td>\n",
       "    </tr>\n",
       "    <tr>\n",
       "      <th>4.0</th>\n",
       "      <td>1953</td>\n",
       "      <td>654</td>\n",
       "    </tr>\n",
       "    <tr>\n",
       "      <th>5.0</th>\n",
       "      <td>1897</td>\n",
       "      <td>587</td>\n",
       "    </tr>\n",
       "    <tr>\n",
       "      <th>6.0</th>\n",
       "      <td>1649</td>\n",
       "      <td>387</td>\n",
       "    </tr>\n",
       "    <tr>\n",
       "      <th>7.0</th>\n",
       "      <td>1787</td>\n",
       "      <td>413</td>\n",
       "    </tr>\n",
       "    <tr>\n",
       "      <th>8.0</th>\n",
       "      <td>2234</td>\n",
       "      <td>552</td>\n",
       "    </tr>\n",
       "    <tr>\n",
       "      <th>9.0</th>\n",
       "      <td>2050</td>\n",
       "      <td>526</td>\n",
       "    </tr>\n",
       "    <tr>\n",
       "      <th>10.0</th>\n",
       "      <td>2159</td>\n",
       "      <td>545</td>\n",
       "    </tr>\n",
       "    <tr>\n",
       "      <th>11.0</th>\n",
       "      <td>2155</td>\n",
       "      <td>684</td>\n",
       "    </tr>\n",
       "    <tr>\n",
       "      <th>12.0</th>\n",
       "      <td>1923</td>\n",
       "      <td>489</td>\n",
       "    </tr>\n",
       "  </tbody>\n",
       "</table>\n",
       "</div>"
      ],
      "text/plain": [
       "           playerID awardID\n",
       "              count   count\n",
       "birthMonth                 \n",
       "1.0            1856     335\n",
       "2.0            1749     434\n",
       "3.0            1874     472\n",
       "4.0            1953     654\n",
       "5.0            1897     587\n",
       "6.0            1649     387\n",
       "7.0            1787     413\n",
       "8.0            2234     552\n",
       "9.0            2050     526\n",
       "10.0           2159     545\n",
       "11.0           2155     684\n",
       "12.0           1923     489"
      ]
     },
     "execution_count": 11,
     "metadata": {},
     "output_type": "execute_result"
    }
   ],
   "source": [
    "#查看待分析的数据集\n",
    "players_grouped"
   ]
  },
  {
   "cell_type": "code",
   "execution_count": 12,
   "metadata": {
    "collapsed": false
   },
   "outputs": [
    {
     "data": {
      "image/png": "[encoded data removed]",
      "text/plain": [
       "<matplotlib.figure.Figure at 0xecb4f98>"
      ]
     },
     "metadata": {},
     "output_type": "display_data"
    }
   ],
   "source": [
    "#所有球员的生日月份分布，绿色线是每个出生月份的球员平均值\n",
    "p1 = plt.bar(players_grouped.index, players_grouped[('playerID', 'count')])\n",
    "plt.axhline(y=players_grouped[('playerID', 'count')].mean(), color = '#23e342')\n",
    "plt.show()"
   ]
  },
  {
   "cell_type": "markdown",
   "metadata": {},
   "source": [
    "整体球员的分布，相对比较均匀。下面查看一下获奖球员的分布"
   ]
  },
  {
   "cell_type": "code",
   "execution_count": 13,
   "metadata": {
    "collapsed": false
   },
   "outputs": [
    {
     "data": {
      "image/png": "[encoded data removed]",
      "text/plain": [
       "<matplotlib.figure.Figure at 0xee7db70>"
      ]
     },
     "metadata": {},
     "output_type": "display_data"
    }
   ],
   "source": [
    "#获奖球员的生日月份分布，绿色线是每个出生月份的获奖球员平均值\n",
    "p2 = plt.bar(players_grouped.index, players_grouped[('awardID', 'count')])\n",
    "plt.axhline(y=players_grouped[('awardID', 'count')].mean(), color = '#23e342')\n",
    "plt.show()"
   ]
  },
  {
   "cell_type": "markdown",
   "metadata": {},
   "source": [
    "获奖球员中看到，1、6、7月较为偏低，而4、5、11月则较为偏高，因为每个月份的球员总数不同，我们可以查看一下每个出生月份，获奖球员占总体球员的比例"
   ]
  },
  {
   "cell_type": "code",
   "execution_count": 14,
   "metadata": {
    "collapsed": false
   },
   "outputs": [
    {
     "data": {
      "text/plain": [
       "<matplotlib.lines.Line2D at 0xe433cf8>"
      ]
     },
     "execution_count": 14,
     "metadata": {},
     "output_type": "execute_result"
    },
    {
     "data": {
      "image/png": "[encoded data removed]",
      "text/plain": [
       "<matplotlib.figure.Figure at 0xe433f98>"
      ]
     },
     "metadata": {},
     "output_type": "display_data"
    }
   ],
   "source": [
    "#每个出生月，获奖球员占总球员比例分布，绿色线为获奖球员占全体球员的比例\n",
    "(players_grouped[('awardID', 'count')]/players_grouped[('playerID', 'count')]).plot(kind='bar')\n",
    "plt.axhline(y=(players_grouped[('awardID', 'count')].sum()*1.0)/(players_grouped[('playerID', 'count')].sum()*1.0), color = '#23e342')"
   ]
  },
  {
   "cell_type": "markdown",
   "metadata": {},
   "source": [
    "#### 问题1 结论\n",
    "通过以上可视化可以看出，1月份的获奖球员占比最低，而4、5、11月的占比突出得高，这跟我们一开始的猜测不太相符，我们猜测应该是相对均匀的分布。那么有什么原因导致该现象？通过查询相关的资料，棒球球员在年龄较小的时候，都是在自己的学校球队接受棒球的训练，而没有像冰球运动员那样有个固定的选拔，最终没有找到确切的原因，很遗憾。"
   ]
  },
  {
   "cell_type": "markdown",
   "metadata": {},
   "source": [
    "#### 问题2 分析"
   ]
  },
  {
   "cell_type": "code",
   "execution_count": 15,
   "metadata": {
    "collapsed": false
   },
   "outputs": [
    {
     "data": {
      "text/plain": [
       "<matplotlib.collections.PathCollection at 0x108d24a8>"
      ]
     },
     "execution_count": 15,
     "metadata": {},
     "output_type": "execute_result"
    },
    {
     "data": {
      "image/png": "[encoded data removed]",
      "text/plain": [
       "<matplotlib.figure.Figure at 0xea937f0>"
      ]
     },
     "metadata": {},
     "output_type": "display_data"
    }
   ],
   "source": [
    "# 直接通过点状图查看 BMI 值和 IsoP 值的相关性\n",
    "plt.scatter(beating_players_df['BMI'], beating_players_df['IsoP'])"
   ]
  },
  {
   "cell_type": "markdown",
   "metadata": {},
   "source": [
    "通过点状图看不出什么明显的相关性，我们查看一下BMI值分组后的信息，以下几个图表分别是：\n",
    "* 每个BMI_level的IsoP的均值分布\n",
    "* 每个BMI_level的IsoP的箱线图比较"
   ]
  },
  {
   "cell_type": "code",
   "execution_count": 16,
   "metadata": {
    "collapsed": false
   },
   "outputs": [
    {
     "data": {
      "text/plain": [
       "<matplotlib.axes._subplots.AxesSubplot at 0x108f1da0>"
      ]
     },
     "execution_count": 16,
     "metadata": {},
     "output_type": "execute_result"
    },
    {
     "data": {
      "image/png": "[encoded data removed]",
      "text/plain": [
       "<matplotlib.figure.Figure at 0x4171cf8>"
      ]
     },
     "metadata": {},
     "output_type": "display_data"
    }
   ],
   "source": [
    "sns.barplot(beating_players_df['BMI_level'], beating_players_df['IsoP'], palette=\"Blues_d\")"
   ]
  },
  {
   "cell_type": "code",
   "execution_count": 17,
   "metadata": {
    "collapsed": false
   },
   "outputs": [
    {
     "data": {
      "text/plain": [
       "<matplotlib.axes._subplots.AxesSubplot at 0x10b9acf8>"
      ]
     },
     "execution_count": 17,
     "metadata": {},
     "output_type": "execute_result"
    },
    {
     "data": {
      "image/png": "[encoded data removed]",
      "text/plain": [
       "<matplotlib.figure.Figure at 0xe4cd710>"
      ]
     },
     "metadata": {},
     "output_type": "display_data"
    }
   ],
   "source": [
    "sns.boxplot(x=\"BMI_level\", y=\"IsoP\", data=beating_players_df, palette=\"Blues_d\", width=0.8)"
   ]
  },
  {
   "cell_type": "markdown",
   "metadata": {},
   "source": [
    "以上两个可视化图表都表现出了较为明显的正相关趋势，我们可以计算查看一下各项统计学信息"
   ]
  },
  {
   "cell_type": "code",
   "execution_count": 18,
   "metadata": {
    "collapsed": false
   },
   "outputs": [
    {
     "data": {
      "text/html": [
       "<div>\n",
       "<table border=\"1\" class=\"dataframe\">\n",
       "  <thead>\n",
       "    <tr>\n",
       "      <th></th>\n",
       "      <th colspan=\"5\" halign=\"left\">IsoP</th>\n",
       "    </tr>\n",
       "    <tr>\n",
       "      <th></th>\n",
       "      <th>count</th>\n",
       "      <th>mean</th>\n",
       "      <th>median</th>\n",
       "      <th>max</th>\n",
       "      <th>min</th>\n",
       "    </tr>\n",
       "    <tr>\n",
       "      <th>BMI_level</th>\n",
       "      <th></th>\n",
       "      <th></th>\n",
       "      <th></th>\n",
       "      <th></th>\n",
       "      <th></th>\n",
       "    </tr>\n",
       "  </thead>\n",
       "  <tbody>\n",
       "    <tr>\n",
       "      <th>Normal_1</th>\n",
       "      <td>985</td>\n",
       "      <td>0.072603</td>\n",
       "      <td>0.066424</td>\n",
       "      <td>0.265406</td>\n",
       "      <td>0.002000</td>\n",
       "    </tr>\n",
       "    <tr>\n",
       "      <th>Normal_2</th>\n",
       "      <td>3248</td>\n",
       "      <td>0.083352</td>\n",
       "      <td>0.077401</td>\n",
       "      <td>0.308825</td>\n",
       "      <td>0.002334</td>\n",
       "    </tr>\n",
       "    <tr>\n",
       "      <th>Overweight_1</th>\n",
       "      <td>2921</td>\n",
       "      <td>0.098944</td>\n",
       "      <td>0.093975</td>\n",
       "      <td>0.325360</td>\n",
       "      <td>0.003247</td>\n",
       "    </tr>\n",
       "    <tr>\n",
       "      <th>Overweight_2</th>\n",
       "      <td>1083</td>\n",
       "      <td>0.119504</td>\n",
       "      <td>0.119540</td>\n",
       "      <td>0.347702</td>\n",
       "      <td>0.002933</td>\n",
       "    </tr>\n",
       "    <tr>\n",
       "      <th>Obese</th>\n",
       "      <td>171</td>\n",
       "      <td>0.135171</td>\n",
       "      <td>0.136698</td>\n",
       "      <td>0.277725</td>\n",
       "      <td>0.002604</td>\n",
       "    </tr>\n",
       "  </tbody>\n",
       "</table>\n",
       "</div>"
      ],
      "text/plain": [
       "              IsoP                                        \n",
       "             count      mean    median       max       min\n",
       "BMI_level                                                 \n",
       "Normal_1       985  0.072603  0.066424  0.265406  0.002000\n",
       "Normal_2      3248  0.083352  0.077401  0.308825  0.002334\n",
       "Overweight_1  2921  0.098944  0.093975  0.325360  0.003247\n",
       "Overweight_2  1083  0.119504  0.119540  0.347702  0.002933\n",
       "Obese          171  0.135171  0.136698  0.277725  0.002604"
      ]
     },
     "execution_count": 18,
     "metadata": {},
     "output_type": "execute_result"
    }
   ],
   "source": [
    "#按照BMI值的分组标准，计算每个分组内的各项统计学数据\n",
    "isop_bmi_togroup = beating_players_df[['IsoP','BMI_level']]\n",
    "functions = ['count','mean','median','max','min']\n",
    "isop_bmi_grouped = isop_bmi_togroup.groupby(['BMI_level']).agg(functions)\n",
    "isop_bmi_grouped"
   ]
  },
  {
   "cell_type": "markdown",
   "metadata": {},
   "source": [
    "按照以上信息，强壮等级的数量较少，其他几个阶段的样本量还是比较多的，比较有参考价值。根据图表可以看出一个正相关的趋势，我们可以用相关系数来证明一下这个结论是否合理："
   ]
  },
  {
   "cell_type": "code",
   "execution_count": 19,
   "metadata": {
    "collapsed": false
   },
   "outputs": [
    {
     "data": {
      "text/plain": [
       "array([[ 1.        ,  0.29846092],\n",
       "       [ 0.29846092,  1.        ]])"
      ]
     },
     "execution_count": 19,
     "metadata": {},
     "output_type": "execute_result"
    }
   ],
   "source": [
    "np.corrcoef(beating_players_df['BMI'], beating_players_df['IsoP'])"
   ]
  },
  {
   "cell_type": "markdown",
   "metadata": {},
   "source": [
    "#### 问题2 结论\n",
    "通过整理数据并可视化分析，可以看出，各 BMI 阶段的 IsoP 均值分布和箱线图的分布趋势，都是随着BMI阶段的提升而提升的。BMI值和球员的长打能力确实有一定的正相关性。一开始的猜测为，标准和超重两个范围内会较强，这个有点想当然了，运动员基本上不会有极端的体形，本来就集中在标准和超重这两个范围内。而在这些范围内，BMI和IsoP呈现了一定的正相关。通过计算相关系数，得到了0.2985（保留了4位小数），在相关系数的范围判断上，小于0.3表示两者相关程度极弱，大于等于0.3且小于0.5为中度相关，而我们得到了一个近似0.3的结果，可以得出两者有较弱的正相关关系。即BMI值越高，运动员的纯长达能力就有（较小的）可能越强。"
   ]
  },
  {
   "cell_type": "markdown",
   "metadata": {},
   "source": [
    "#### 问题3 分析"
   ]
  },
  {
   "cell_type": "code",
   "execution_count": 20,
   "metadata": {
    "collapsed": false
   },
   "outputs": [
    {
     "data": {
      "text/html": [
       "<div>\n",
       "<table border=\"1\" class=\"dataframe\">\n",
       "  <thead>\n",
       "    <tr style=\"text-align: right;\">\n",
       "      <th></th>\n",
       "      <th>playerID</th>\n",
       "      <th>IsoP</th>\n",
       "    </tr>\n",
       "    <tr>\n",
       "      <th>career</th>\n",
       "      <th></th>\n",
       "      <th></th>\n",
       "    </tr>\n",
       "  </thead>\n",
       "  <tbody>\n",
       "    <tr>\n",
       "      <th>0</th>\n",
       "      <td>863</td>\n",
       "      <td>863</td>\n",
       "    </tr>\n",
       "    <tr>\n",
       "      <th>1</th>\n",
       "      <td>1020</td>\n",
       "      <td>1020</td>\n",
       "    </tr>\n",
       "    <tr>\n",
       "      <th>2</th>\n",
       "      <td>1044</td>\n",
       "      <td>1044</td>\n",
       "    </tr>\n",
       "    <tr>\n",
       "      <th>3</th>\n",
       "      <td>968</td>\n",
       "      <td>968</td>\n",
       "    </tr>\n",
       "    <tr>\n",
       "      <th>4</th>\n",
       "      <td>943</td>\n",
       "      <td>943</td>\n",
       "    </tr>\n",
       "    <tr>\n",
       "      <th>5</th>\n",
       "      <td>847</td>\n",
       "      <td>847</td>\n",
       "    </tr>\n",
       "    <tr>\n",
       "      <th>6</th>\n",
       "      <td>782</td>\n",
       "      <td>782</td>\n",
       "    </tr>\n",
       "    <tr>\n",
       "      <th>7</th>\n",
       "      <td>707</td>\n",
       "      <td>707</td>\n",
       "    </tr>\n",
       "    <tr>\n",
       "      <th>8</th>\n",
       "      <td>614</td>\n",
       "      <td>614</td>\n",
       "    </tr>\n",
       "    <tr>\n",
       "      <th>9</th>\n",
       "      <td>548</td>\n",
       "      <td>548</td>\n",
       "    </tr>\n",
       "    <tr>\n",
       "      <th>10</th>\n",
       "      <td>487</td>\n",
       "      <td>487</td>\n",
       "    </tr>\n",
       "    <tr>\n",
       "      <th>11</th>\n",
       "      <td>409</td>\n",
       "      <td>409</td>\n",
       "    </tr>\n",
       "    <tr>\n",
       "      <th>12</th>\n",
       "      <td>317</td>\n",
       "      <td>317</td>\n",
       "    </tr>\n",
       "    <tr>\n",
       "      <th>13</th>\n",
       "      <td>241</td>\n",
       "      <td>241</td>\n",
       "    </tr>\n",
       "    <tr>\n",
       "      <th>14</th>\n",
       "      <td>179</td>\n",
       "      <td>179</td>\n",
       "    </tr>\n",
       "    <tr>\n",
       "      <th>15</th>\n",
       "      <td>133</td>\n",
       "      <td>133</td>\n",
       "    </tr>\n",
       "    <tr>\n",
       "      <th>16</th>\n",
       "      <td>95</td>\n",
       "      <td>95</td>\n",
       "    </tr>\n",
       "    <tr>\n",
       "      <th>17</th>\n",
       "      <td>63</td>\n",
       "      <td>63</td>\n",
       "    </tr>\n",
       "    <tr>\n",
       "      <th>18</th>\n",
       "      <td>41</td>\n",
       "      <td>41</td>\n",
       "    </tr>\n",
       "    <tr>\n",
       "      <th>19</th>\n",
       "      <td>25</td>\n",
       "      <td>25</td>\n",
       "    </tr>\n",
       "    <tr>\n",
       "      <th>20</th>\n",
       "      <td>18</td>\n",
       "      <td>18</td>\n",
       "    </tr>\n",
       "    <tr>\n",
       "      <th>21</th>\n",
       "      <td>12</td>\n",
       "      <td>12</td>\n",
       "    </tr>\n",
       "    <tr>\n",
       "      <th>22</th>\n",
       "      <td>5</td>\n",
       "      <td>5</td>\n",
       "    </tr>\n",
       "    <tr>\n",
       "      <th>23</th>\n",
       "      <td>4</td>\n",
       "      <td>4</td>\n",
       "    </tr>\n",
       "    <tr>\n",
       "      <th>24</th>\n",
       "      <td>2</td>\n",
       "      <td>2</td>\n",
       "    </tr>\n",
       "    <tr>\n",
       "      <th>25</th>\n",
       "      <td>1</td>\n",
       "      <td>1</td>\n",
       "    </tr>\n",
       "  </tbody>\n",
       "</table>\n",
       "</div>"
      ],
      "text/plain": [
       "        playerID  IsoP\n",
       "career                \n",
       "0            863   863\n",
       "1           1020  1020\n",
       "2           1044  1044\n",
       "3            968   968\n",
       "4            943   943\n",
       "5            847   847\n",
       "6            782   782\n",
       "7            707   707\n",
       "8            614   614\n",
       "9            548   548\n",
       "10           487   487\n",
       "11           409   409\n",
       "12           317   317\n",
       "13           241   241\n",
       "14           179   179\n",
       "15           133   133\n",
       "16            95    95\n",
       "17            63    63\n",
       "18            41    41\n",
       "19            25    25\n",
       "20            18    18\n",
       "21            12    12\n",
       "22             5     5\n",
       "23             4     4\n",
       "24             2     2\n",
       "25             1     1"
      ]
     },
     "execution_count": 20,
     "metadata": {},
     "output_type": "execute_result"
    }
   ],
   "source": [
    "#按照服役年数进行分组，查看分组后的各组数量\n",
    "beating_players_year_count = beating_players_year.groupby(['career']).count()\n",
    "beating_players_year_count"
   ]
  },
  {
   "cell_type": "markdown",
   "metadata": {},
   "source": [
    "服役年限越长，样本数量级越小，服役15年以上的基本上都很少了，数量级少的时候，纯长打率的分布比较分散，不太有参考价值。可以截取前15年的数据看一下分布情况。"
   ]
  },
  {
   "cell_type": "code",
   "execution_count": 21,
   "metadata": {
    "collapsed": true
   },
   "outputs": [],
   "source": [
    "#截取服役0-15年的数据\n",
    "beating_players_year = beating_players_year[(beating_players_year['career'] >= 0)&(beating_players_year['career']<=15)]"
   ]
  },
  {
   "cell_type": "code",
   "execution_count": 22,
   "metadata": {
    "collapsed": false
   },
   "outputs": [
    {
     "data": {
      "text/plain": [
       "<matplotlib.axes._subplots.AxesSubplot at 0x10912a90>"
      ]
     },
     "execution_count": 22,
     "metadata": {},
     "output_type": "execute_result"
    },
    {
     "data": {
      "image/png": "[encoded data removed]",
      "text/plain": [
       "<matplotlib.figure.Figure at 0x10b7c278>"
      ]
     },
     "metadata": {},
     "output_type": "display_data"
    }
   ],
   "source": [
    "#随着服役年限的递增，IsoP的均值分布\n",
    "sns.barplot(beating_players_year['career'], beating_players_year['IsoP'], palette=\"Blues_d\")"
   ]
  },
  {
   "cell_type": "code",
   "execution_count": 23,
   "metadata": {
    "collapsed": false
   },
   "outputs": [
    {
     "data": {
      "text/plain": [
       "<matplotlib.axes._subplots.AxesSubplot at 0x113fb748>"
      ]
     },
     "execution_count": 23,
     "metadata": {},
     "output_type": "execute_result"
    },
    {
     "data": {
      "image/png": "[encoded data removed]",
      "text/plain": [
       "<matplotlib.figure.Figure at 0xe9f77b8>"
      ]
     },
     "metadata": {},
     "output_type": "display_data"
    }
   ],
   "source": [
    "#随着服役年限的递增，IsoP的箱线图分布\n",
    "sns.boxplot(x=\"career\", y=\"IsoP\", data=beating_players_year, palette=\"Blues_d\")"
   ]
  },
  {
   "cell_type": "markdown",
   "metadata": {},
   "source": [
    "单纯看0-3年的数据情况，可以看到均值和中位数都是递增的，然而幅度很小。对于0-15年整体来看，每年纯长打率均值和箱线图分布，可以看出没有特别大的变化，并不能证明这个范围内有什么正相关或负相关。那么我们来计算一下相关系数看看："
   ]
  },
  {
   "cell_type": "code",
   "execution_count": 24,
   "metadata": {
    "collapsed": false
   },
   "outputs": [
    {
     "data": {
      "text/plain": [
       "array([[ 1.        ,  0.07576242],\n",
       "       [ 0.07576242,  1.        ]])"
      ]
     },
     "execution_count": 24,
     "metadata": {},
     "output_type": "execute_result"
    }
   ],
   "source": [
    "#整体的相关系数\n",
    "np.corrcoef(beating_players_year['career'], beating_players_year['IsoP'])"
   ]
  },
  {
   "cell_type": "markdown",
   "metadata": {},
   "source": [
    "可以看到这个相关系数是非常小的，可以视为不相关，那么我们来看一下前4年的相关性："
   ]
  },
  {
   "cell_type": "code",
   "execution_count": 25,
   "metadata": {
    "collapsed": false
   },
   "outputs": [
    {
     "data": {
      "text/plain": [
       "array([[ 1.        ,  0.05446384],\n",
       "       [ 0.05446384,  1.        ]])"
      ]
     },
     "execution_count": 25,
     "metadata": {},
     "output_type": "execute_result"
    }
   ],
   "source": [
    "beating_players_year = beating_players_year[(beating_players_year['career'] >= 0)&(beating_players_year['career']<=3)]\n",
    "np.corrcoef(beating_players_year['career'], beating_players_year['IsoP'])"
   ]
  },
  {
   "cell_type": "markdown",
   "metadata": {},
   "source": [
    "0-3年的相关系数甚至更小了，看来可视化图表上的微小上升趋势并不能说明它们具有相关性。"
   ]
  },
  {
   "cell_type": "markdown",
   "metadata": {},
   "source": [
    "#### 问题3结论\n",
    "通过可视化和相关系数的计算，虽然对于棒球运动来说，运动员的运动生涯已经比其他的运动项目的时间长，然而如果一个人在经历过自己的能力高峰之后，状态下滑太明显，可能就会选择退役，或者被球队所淘汰了。所以整体没有一个特别大的变化也是比较合理的。"
   ]
  },
  {
   "cell_type": "markdown",
   "metadata": {},
   "source": [
    "## 总结\n",
    "\n",
    "### 问题结论汇总\n",
    "\n",
    "1. 出生月份是否与成为明星球员有相关性？提出问题只是因为冰球运动员的那个数据分析结论，猜测不相关，实际1月份确实分布较小，4、5、11月分布较多，具体原因未查明。\n",
    "2. 身体条件（BMI标准体重）与纯长打率（衡量长打能力的指标）的相关性？猜测处于标准和超重的人有更好的长打能力。事实是，大部分的球员都处于这两个范围内，而在将标准和超重分别分为两部分，再加上“肥胖”，一共5个范围分析后发现，BMI值越高的范围，纯长打率越可能高，长达能力越强。（均值，中位数，箱线图分布证明有相关性，相关系数证明相关性较小）\n",
    "3. 服役年限与当年纯长打率的相关性？猜测为服役前期上升，服役后期下降。然而整体来看没有特别大的差异，相关系数也特别小。对于运动员来说，如果后期能力下降太多，可能就会选择退役了，如果退役，就没有了数据体现。\n",
    "\n",
    "### 局限性和改进空间\n",
    "\n",
    "1. 对棒球运动不是足够了解，很多相关知识只是通过搜素引擎来获取，不一定准确，对棒球运动更了解，才更能明白每个数据的真正内涵。这告诉了我们一个道理，对于数据分析师来说，数据分析是需要建立在具体业务之上的。不是所有的数据都可以直接拿来分析，需要对数据集有更深的了解，才能更深层次地挖掘数据中的秘密！\n",
    "2. BMI值，对于运动员来说，超重和肥胖，其实代表了身体的脂肪和肌肉两种物质，在本次分析中，更多是看作“BMI值越大，运动员越强壮，肌肉越发达”。如果有真正的可以衡量运动员肌肉的数据，那么相关性可能会更大一点。\n",
    "3. 每年的纯长打率随着服役年限的变化，是否有相应的变化。这个问题研究的是整体数据，按照服役年限分组，有可能同一组中的球员是不同时代的球员，虽然有控制截取1995年以后的球员数据，然而影响纯长打率有很多其他因素没有得到控制，单纯只分析服役年限和当年的纯长打率，可参考性并不大。如果想要证明运动员前期是状态提升期，后期是状态下降期，也不能只看纯长打率，应该是全面提升的，或者针对不同部位的球员，不同的能力有对应的提升和下降。要区分不同的场上位置，而且很多球员也会随着时间的推移改变自己的场上位置。比较复杂，对棒球数据还是需要进一步的了解才能解决这个问题了。"
   ]
  },
  {
   "cell_type": "markdown",
   "metadata": {},
   "source": [
    "## 参考网站：\n",
    "1. [轻松看懂棒球统计数据-打击数据篇](http://terryex.pixnet.net/blog/post/36215363)\n",
    "2. [棒球统计-维基百科](https://zh.wikipedia.org/wiki/%E6%A3%92%E7%90%83%E7%B5%B1%E8%A8%88)\n",
    "3. [《点球成金》豆瓣电影](https://movie.douban.com/subject/3023164/)\n",
    "4. [浅谈如何判别打击三围](https://www.sportsv.net/articles/13549)\n",
    "5. [打击三围-台湾棒球维基馆](http://twbsball.dils.tku.edu.tw/wiki/index.php/%E6%89%93%E6%93%8A%E4%B8%89%E5%9C%8D)\n",
    "6. [如何计算长打率](http://www.wikihow.com/Calculate-Slugging-Percentage)\n",
    "7. [纯长打率-维基百科](https://zh.wikipedia.org/wiki/%E7%B4%94%E9%95%B7%E6%89%93%E7%8E%87)"
   ]
  }
 ],
 "metadata": {
  "anaconda-cloud": {},
  "kernelspec": {
   "display_name": "Python [default]",
   "language": "python",
   "name": "python2"
  },
  "language_info": {
   "codemirror_mode": {
    "name": "ipython",
    "version": 2
   },
   "file_extension": ".py",
   "mimetype": "text/x-python",
   "name": "python",
   "nbconvert_exporter": "python",
   "pygments_lexer": "ipython2",
   "version": "2.7.13"
  }
 },
 "nbformat": 4,
 "nbformat_minor": 1
}
