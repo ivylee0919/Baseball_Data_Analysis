{
 "cells": [
  {
   "cell_type": "markdown",
   "metadata": {},
   "source": [
    "# 棒球数据分析"
   ]
  },
  {
   "cell_type": "markdown",
   "metadata": {},
   "source": [
    "## 初步了解数据集\n",
    "MLB棒球数据集，内容包含了各个层面，包括从 1871 年到 2014 年完整的棒球赛击球和投球数据，还包括防守数据、排名、球队数据、管理记录、季后赛数据等等。由于棒球运动在中国并不是很流行，所以很多学生对棒球运动几乎一无所知，我也是这样，但是通过搜索了解，还是可以获得一些粗浅的棒球知识，可以从中找到自己想要分析的问题。\n",
    "\n",
    "### 数据简介\n",
    "\n",
    "1. BMI指数（即身体质量指数，简称体质指数又称体重，英文为Body Mass Index，简称BMI），是用体重公斤数除以身高米数平方得出的数字，是目前国际上常用的衡量人体胖瘦程度以及是否健康的一个标准。但是对于运动员来说，肥胖标准代表的可能是强壮。BMI = weight(kg)/height(m)`**`2\n",
    "2. 服役年限：career_years = yearID - debut.dt.year\n",
    "3. IsoP：纯长打率（英文：Isolated Power）纯长打率可用来评断一位打者的长打能力。纯长打率 = 长打率 - 打击率。其中打击率是棒球运动中，评量打者（击球员）成绩的重要指标。长打率为一般衡量长打能力的数字。字面上的解释应该是“出现长打的概率”，但事实上，更深层的意义是“每一次打击可以贡献几个垒包”。纯长打率计算公式如下：\n",
    "\n",
    "![纯长打率公式](https://wikimedia.org/api/rest_v1/media/math/render/svg/dbd2e3215be4bf16e4c6ff96daeba5763c3efe31)\n",
    "\n",
    "### 检查公式所需数据\n",
    "通过检查，发现缺少一个数据：1B —— 一垒安打，查询[如何计算长打率](http://www.wikihow.com/Calculate-Slugging-Percentage)得到长打率替代公式：**`SLG = (H + 2B + (2 x 3B) + (3 x HR))/AB`**，即 **`IsoP = (H + 2B + (2 x 3B) + (3 x HR))/AB - H/AB`**\n",
    "\n",
    "### 提出问题\n",
    "\n",
    "1. 出生月份是否与成为明星球员有相关性？（受到冰球运动员的数据启发）\n",
    "2. 身体条件（BMI标准体重）与纯长打率（衡量长打能力的指标）的相关性\n",
    "3. 服役年限与当年纯长打率的相关性\n",
    "\n",
    "### 问题预测\n",
    "\n",
    "1. 没有明显猜测，只是单纯好奇，很大可能不相关\n",
    "2. 猜测 BMI 值处于标准和偏胖的人（猜测这个范围内的人有更强的力量）有更好的长打能力体现\n",
    "3. 对于运动员来说，通常在服役年限前期，应该是能力的上升期，而在服役年限的后期，应该是能力的下降区域。"
   ]
  },
  {
   "cell_type": "markdown",
   "metadata": {},
   "source": [
    "## 熟悉具体数据集："
   ]
  },
  {
   "cell_type": "markdown",
   "metadata": {},
   "source": [
    "### 导入数据表\n",
    "* 导入库"
   ]
  },
  {
   "cell_type": "code",
   "execution_count": 1,
   "metadata": {
    "collapsed": false
   },
   "outputs": [],
   "source": [
    "#导入库\n",
    "%matplotlib inline \n",
    "import matplotlib.pyplot as plt\n",
    "import numpy as np\n",
    "import pandas as pd\n",
    "import seaborn as sns"
   ]
  },
  {
   "cell_type": "markdown",
   "metadata": {},
   "source": [
    "* 从CSV文件中导入数据"
   ]
  },
  {
   "cell_type": "code",
   "execution_count": 2,
   "metadata": {
    "collapsed": false,
    "scrolled": true
   },
   "outputs": [],
   "source": [
    "beating_df  = pd.read_csv(\"Batting.csv\")\n",
    "players_df  = pd.read_csv(\"Master.csv\")\n",
    "awards_players_df = pd.read_csv(\"AwardsPlayers.csv\")"
   ]
  },
  {
   "cell_type": "markdown",
   "metadata": {},
   "source": [
    "### 熟悉数据\n",
    "使用 info 查看数据信息，我们发现需要的数据项有：\n",
    "\n",
    "#### `beating_df`\n",
    "* playerID  —— 球员ID\n",
    "* yearID —— 当年年份\n",
    "* stint —— 球员在同一赛季的服役顺序\n",
    "* G —— 比赛场数（Games）\n",
    "* AB —— 打数（At Bats）打者完成一次打击，且这次打击并非是成功的牺牲触击、保送、高飞牺牲打的次数\n",
    "* R —— 得分（Runs）合法及安全回到本垒的次数\n",
    "* H —— 安打（Hits）在没有失误的情况下，打者把投手投出来的球，击出到界内，使打者本身能至少安全上到一垒\n",
    "* 2B —— 二垒（Doubles）能使打者在没有守备失误的情况下，安全到达二垒的打击\n",
    "* 3B —— 三垒（Triples）能使打者在没有守备失误的情况下，安全到达三垒的打击\n",
    "* HR —— 本垒打（Homeruns）在没有失误的情况下，跑者一次跑完四个垒包\n",
    "\n",
    "#### `players_df`\n",
    "* playerID —— 球员ID\n",
    "* birthYear —— 出生年\n",
    "* birthMonth —— 出生月\n",
    "* birthDay —— 出生日\n",
    "* weight —— 体重（单位：磅 pound）\n",
    "* height —— 身高（单位：英寸 inch）\n",
    "* debut —— 在大联盟的首次出场日期\n",
    "* finalGame —— 在大联盟的最后一场比赛日期（如果仍在活跃则为空）\n",
    "\n",
    "#### `awards_players_df`\n",
    "* playerID —— 球员ID\n",
    "* awardID —— 奖项ID\n",
    "* yearID —— 年份\n"
   ]
  },
  {
   "cell_type": "markdown",
   "metadata": {},
   "source": [
    "### 数据整理\n",
    "现在我们需要的数据都有了，那么根据我们提出的问题，将数据进行处理："
   ]
  },
  {
   "cell_type": "markdown",
   "metadata": {},
   "source": [
    "#### 问题1\n",
    "出生月份是否与成为明星球员有相关性？（受到冰球运动员的数据启发）此处的明星球员为曾经获得过奖项的球员。"
   ]
  },
  {
   "cell_type": "markdown",
   "metadata": {},
   "source": [
    "数据处理的步骤：\n",
    "1. 合并获奖球员信息和球员信息，获取每个球员的出生月份\n",
    "2. 填充缺失值为0\n",
    "3. 取出出生月份不等于0的数据\n",
    "4. 根据出生月份将数据分组，计数"
   ]
  },
  {
   "cell_type": "code",
   "execution_count": 3,
   "metadata": {
    "collapsed": false
   },
   "outputs": [],
   "source": [
    "award_process = pd.merge(awards_players_df.loc[:,['playerID','awardID']], players_df.loc[:,['playerID','birthMonth']], \n",
    "                         on=['playerID'], how='right')\n",
    "players_type = award_process.fillna({'birthMonth':0})\n",
    "players_type = players_type[players_type['birthMonth'] != 0]\n",
    "players_grouped = players_type.groupby(['birthMonth']).agg(['count'])"
   ]
  },
  {
   "cell_type": "markdown",
   "metadata": {},
   "source": [
    "#### 问题1数据集的可视化\n",
    "* 所有球员的生日月份分布\n",
    "* 获奖球员的生日月份分布\n",
    "* 获奖球员与未获奖球员的生日月份分布对比"
   ]
  },
  {
   "cell_type": "code",
   "execution_count": 4,
   "metadata": {
    "collapsed": false
   },
   "outputs": [
    {
     "data": {
      "image/png": "[encoded data removed]",
      "text/plain": [
       "<matplotlib.figure.Figure at 0xb783c50>"
      ]
     },
     "metadata": {},
     "output_type": "display_data"
    }
   ],
   "source": [
    "p1 = plt.bar(players_grouped.index, players_grouped[('playerID', 'count')],color='#5490c7')\n",
    "plt.show()"
   ]
  },
  {
   "cell_type": "code",
   "execution_count": 5,
   "metadata": {
    "collapsed": false
   },
   "outputs": [
    {
     "data": {
      "image/png": "[encoded data removed]",
      "text/plain": [
       "<matplotlib.figure.Figure at 0xc1dd1d0>"
      ]
     },
     "metadata": {},
     "output_type": "display_data"
    }
   ],
   "source": [
    "p2 = plt.bar(players_grouped.index, players_grouped[('awardID', 'count')],color='#5490c7')\n",
    "plt.show()"
   ]
  },
  {
   "cell_type": "code",
   "execution_count": 6,
   "metadata": {
    "collapsed": false
   },
   "outputs": [
    {
     "data": {
      "image/png": "[encoded data removed]",
      "text/plain": [
       "<matplotlib.figure.Figure at 0xc1978d0>"
      ]
     },
     "metadata": {},
     "output_type": "display_data"
    }
   ],
   "source": [
    "width = 0.5\n",
    "p1 = plt.bar(players_grouped.index, players_grouped[('playerID', 'count')],color='#e96baf')\n",
    "p2 = plt.bar(players_grouped.index, players_grouped[('awardID', 'count')],color='#5490c7')\n",
    "plt.xlabel('birthMonth')\n",
    "plt.ylabel('Count')\n",
    "plt.title('Players grouped by birthMonth and awards')\n",
    "plt.legend((p1[0], p2[0]), ('Unawarded Players', 'Awarded Players'))\n",
    "plt.show()"
   ]
  },
  {
   "cell_type": "markdown",
   "metadata": {},
   "source": [
    "#### 问题1结论\n",
    "通过柱状图分布，可以看出各个月份的分布整体是比较均匀的，虽然单独看获奖球员的分布图，似乎有一些变化曲线，但是放到整体中比较发现，应该是因为获奖球员的样本较少的原因。通过查询相关的资料，棒球球员在年龄较小的时候，都是在自己的学校球队接受棒球的训练，而没有像冰球运动员那样有个固定的选拔。所以根据以上的分析并不能得出出生月份与成为明星球员有相关性的结论。"
   ]
  },
  {
   "cell_type": "markdown",
   "metadata": {},
   "source": [
    "#### 问题2：身体条件（BMI标准体重）与纯长打率（衡量长打能力的指标）的相关性\n",
    "公式：**`IsoP = (H + 2B + (2 x 3B) + (3 x HR))/AB - H/AB`**\n",
    "* 累加每个球员的所有能力指标数据备用\n",
    "* AB打数太少，计算纯长打率的价值不大，截取AB大于100的数据进行研究\n",
    "* 按公式进行向量计算\n",
    "* 截取IsoP大于0的数据进行分析"
   ]
  },
  {
   "cell_type": "code",
   "execution_count": 7,
   "metadata": {
    "collapsed": false
   },
   "outputs": [
    {
     "data": {
      "text/html": [
       "<div>\n",
       "<table border=\"1\" class=\"dataframe\">\n",
       "  <thead>\n",
       "    <tr style=\"text-align: right;\">\n",
       "      <th></th>\n",
       "      <th>AB</th>\n",
       "      <th>H</th>\n",
       "      <th>2B</th>\n",
       "      <th>3B</th>\n",
       "      <th>HR</th>\n",
       "      <th>IsoP</th>\n",
       "    </tr>\n",
       "  </thead>\n",
       "  <tbody>\n",
       "    <tr>\n",
       "      <th>count</th>\n",
       "      <td>8574.000000</td>\n",
       "      <td>8574.000000</td>\n",
       "      <td>8574.000000</td>\n",
       "      <td>8574.000000</td>\n",
       "      <td>8574.00000</td>\n",
       "      <td>8574.000000</td>\n",
       "    </tr>\n",
       "    <tr>\n",
       "      <th>mean</th>\n",
       "      <td>1658.390716</td>\n",
       "      <td>436.351761</td>\n",
       "      <td>73.905178</td>\n",
       "      <td>15.298577</td>\n",
       "      <td>32.96746</td>\n",
       "      <td>0.092491</td>\n",
       "    </tr>\n",
       "    <tr>\n",
       "      <th>std</th>\n",
       "      <td>2037.412973</td>\n",
       "      <td>584.025612</td>\n",
       "      <td>104.562769</td>\n",
       "      <td>25.689988</td>\n",
       "      <td>69.77092</td>\n",
       "      <td>0.052218</td>\n",
       "    </tr>\n",
       "    <tr>\n",
       "      <th>min</th>\n",
       "      <td>101.000000</td>\n",
       "      <td>6.000000</td>\n",
       "      <td>0.000000</td>\n",
       "      <td>0.000000</td>\n",
       "      <td>0.00000</td>\n",
       "      <td>0.002000</td>\n",
       "    </tr>\n",
       "    <tr>\n",
       "      <th>25%</th>\n",
       "      <td>268.000000</td>\n",
       "      <td>54.000000</td>\n",
       "      <td>8.000000</td>\n",
       "      <td>1.000000</td>\n",
       "      <td>1.00000</td>\n",
       "      <td>0.052941</td>\n",
       "    </tr>\n",
       "    <tr>\n",
       "      <th>50%</th>\n",
       "      <td>727.000000</td>\n",
       "      <td>167.000000</td>\n",
       "      <td>26.000000</td>\n",
       "      <td>5.000000</td>\n",
       "      <td>6.00000</td>\n",
       "      <td>0.084996</td>\n",
       "    </tr>\n",
       "    <tr>\n",
       "      <th>75%</th>\n",
       "      <td>2269.500000</td>\n",
       "      <td>592.000000</td>\n",
       "      <td>98.000000</td>\n",
       "      <td>18.000000</td>\n",
       "      <td>29.00000</td>\n",
       "      <td>0.125000</td>\n",
       "    </tr>\n",
       "    <tr>\n",
       "      <th>max</th>\n",
       "      <td>14053.000000</td>\n",
       "      <td>4256.000000</td>\n",
       "      <td>792.000000</td>\n",
       "      <td>309.000000</td>\n",
       "      <td>762.00000</td>\n",
       "      <td>0.347702</td>\n",
       "    </tr>\n",
       "  </tbody>\n",
       "</table>\n",
       "</div>"
      ],
      "text/plain": [
       "                 AB            H           2B           3B          HR  \\\n",
       "count   8574.000000  8574.000000  8574.000000  8574.000000  8574.00000   \n",
       "mean    1658.390716   436.351761    73.905178    15.298577    32.96746   \n",
       "std     2037.412973   584.025612   104.562769    25.689988    69.77092   \n",
       "min      101.000000     6.000000     0.000000     0.000000     0.00000   \n",
       "25%      268.000000    54.000000     8.000000     1.000000     1.00000   \n",
       "50%      727.000000   167.000000    26.000000     5.000000     6.00000   \n",
       "75%     2269.500000   592.000000    98.000000    18.000000    29.00000   \n",
       "max    14053.000000  4256.000000   792.000000   309.000000   762.00000   \n",
       "\n",
       "              IsoP  \n",
       "count  8574.000000  \n",
       "mean      0.092491  \n",
       "std       0.052218  \n",
       "min       0.002000  \n",
       "25%       0.052941  \n",
       "50%       0.084996  \n",
       "75%       0.125000  \n",
       "max       0.347702  "
      ]
     },
     "execution_count": 7,
     "metadata": {},
     "output_type": "execute_result"
    }
   ],
   "source": [
    "beating_select = beating_df[['playerID','AB','H','2B','3B','HR']]\n",
    "beating_grouped = beating_select.groupby(['playerID'], as_index = False).sum()\n",
    "beating_grouped = beating_grouped[beating_grouped['AB'] > 100]\n",
    "beating_grouped[\"IsoP\"] = (beating_grouped['H'] + beating_grouped['2B'] + (2 * beating_grouped['3B']) + (3 * beating_grouped['HR'])) / beating_grouped['AB'] - beating_grouped['H'] / beating_grouped['AB'] \n",
    "beating_grouped = beating_grouped[beating_grouped['IsoP'] > 0]\n",
    "beating_grouped.describe()"
   ]
  },
  {
   "cell_type": "markdown",
   "metadata": {},
   "source": [
    "* 选择球员数据中的身高和体重，填充空值为0\n",
    "* 选择身高和体重数据大于0的球员\n",
    "* 转换身高和体重的单位\n",
    "* 按照公式求 BMI = weight(kg)/height(m)**2"
   ]
  },
  {
   "cell_type": "code",
   "execution_count": 8,
   "metadata": {
    "collapsed": false
   },
   "outputs": [
    {
     "data": {
      "text/html": [
       "<div>\n",
       "<table border=\"1\" class=\"dataframe\">\n",
       "  <thead>\n",
       "    <tr style=\"text-align: right;\">\n",
       "      <th></th>\n",
       "      <th>weight_kg</th>\n",
       "      <th>height_m</th>\n",
       "      <th>BMI</th>\n",
       "    </tr>\n",
       "  </thead>\n",
       "  <tbody>\n",
       "    <tr>\n",
       "      <th>count</th>\n",
       "      <td>17918.000000</td>\n",
       "      <td>17918.000000</td>\n",
       "      <td>17918.000000</td>\n",
       "    </tr>\n",
       "    <tr>\n",
       "      <th>mean</th>\n",
       "      <td>84.385882</td>\n",
       "      <td>1.835636</td>\n",
       "      <td>24.998709</td>\n",
       "    </tr>\n",
       "    <tr>\n",
       "      <th>std</th>\n",
       "      <td>9.618539</td>\n",
       "      <td>0.065907</td>\n",
       "      <td>2.040376</td>\n",
       "    </tr>\n",
       "    <tr>\n",
       "      <th>min</th>\n",
       "      <td>29.483506</td>\n",
       "      <td>1.092200</td>\n",
       "      <td>17.720722</td>\n",
       "    </tr>\n",
       "    <tr>\n",
       "      <th>25%</th>\n",
       "      <td>77.110708</td>\n",
       "      <td>1.803400</td>\n",
       "      <td>23.709946</td>\n",
       "    </tr>\n",
       "    <tr>\n",
       "      <th>50%</th>\n",
       "      <td>83.914594</td>\n",
       "      <td>1.828800</td>\n",
       "      <td>24.902112</td>\n",
       "    </tr>\n",
       "    <tr>\n",
       "      <th>75%</th>\n",
       "      <td>90.718480</td>\n",
       "      <td>1.879600</td>\n",
       "      <td>26.087927</td>\n",
       "    </tr>\n",
       "    <tr>\n",
       "      <th>max</th>\n",
       "      <td>145.149568</td>\n",
       "      <td>2.108200</td>\n",
       "      <td>39.749027</td>\n",
       "    </tr>\n",
       "  </tbody>\n",
       "</table>\n",
       "</div>"
      ],
      "text/plain": [
       "          weight_kg      height_m           BMI\n",
       "count  17918.000000  17918.000000  17918.000000\n",
       "mean      84.385882      1.835636     24.998709\n",
       "std        9.618539      0.065907      2.040376\n",
       "min       29.483506      1.092200     17.720722\n",
       "25%       77.110708      1.803400     23.709946\n",
       "50%       83.914594      1.828800     24.902112\n",
       "75%       90.718480      1.879600     26.087927\n",
       "max      145.149568      2.108200     39.749027"
      ]
     },
     "execution_count": 8,
     "metadata": {},
     "output_type": "execute_result"
    }
   ],
   "source": [
    "players_select = players_df[['playerID','weight','height']].fillna(0)\n",
    "players_select = players_select[(players_select['weight']>0) & (players_select['height']>0)]\n",
    "players_select['weight_kg'] = players_select['weight'] * 0.4535924\n",
    "players_select['height_m'] = players_select['height'] * 0.0254\n",
    "del players_select['weight']\n",
    "del players_select['height']\n",
    "players_select['BMI'] = players_select['weight_kg'] / (players_select['height_m'] * players_select['height_m'])\n",
    "players_select.describe()"
   ]
  },
  {
   "cell_type": "code",
   "execution_count": 9,
   "metadata": {
    "collapsed": false
   },
   "outputs": [
    {
     "data": {
      "text/plain": [
       "<matplotlib.axes._subplots.AxesSubplot at 0xc197d30>"
      ]
     },
     "execution_count": 9,
     "metadata": {},
     "output_type": "execute_result"
    },
    {
     "data": {
      "image/png": "[encoded data removed]",
      "text/plain": [
       "<matplotlib.figure.Figure at 0xef70898>"
      ]
     },
     "metadata": {},
     "output_type": "display_data"
    }
   ],
   "source": [
    "sns.distplot(players_select['BMI'])"
   ]
  },
  {
   "cell_type": "markdown",
   "metadata": {},
   "source": [
    "根据以上分布情况，发现球员基本上处于20-35的区间内，这也是有道理的，因为运动员需要有基本的身体素质，所以可以只在标准、超重和肥胖的范围内分析。\n",
    "* 合并球员身体素质和击球数据\n",
    "* 将BMI值分阶段，按照上方的BMI值分布，大部分球员是处于20-30的范围内的，所以分组按照(18.5,23],(23,25],(25,27],(27,30],(30,40]\n",
    "* (18.5,23],(23,25],(25,27],(27,30],(30,40]对应名称'Normal_1','Normal_2','Overweight_1','Overweight_2','Obese'"
   ]
  },
  {
   "cell_type": "code",
   "execution_count": 10,
   "metadata": {
    "collapsed": false
   },
   "outputs": [
    {
     "data": {
      "text/html": [
       "<div>\n",
       "<table border=\"1\" class=\"dataframe\">\n",
       "  <thead>\n",
       "    <tr style=\"text-align: right;\">\n",
       "      <th></th>\n",
       "      <th>playerID</th>\n",
       "      <th>IsoP</th>\n",
       "      <th>BMI</th>\n",
       "      <th>BMI_level</th>\n",
       "    </tr>\n",
       "  </thead>\n",
       "  <tbody>\n",
       "    <tr>\n",
       "      <th>0</th>\n",
       "      <td>aaronha01</td>\n",
       "      <td>0.249515</td>\n",
       "      <td>24.412140</td>\n",
       "      <td>Normal_2</td>\n",
       "    </tr>\n",
       "    <tr>\n",
       "      <th>1</th>\n",
       "      <td>aaronto01</td>\n",
       "      <td>0.098517</td>\n",
       "      <td>23.748130</td>\n",
       "      <td>Normal_2</td>\n",
       "    </tr>\n",
       "    <tr>\n",
       "      <th>2</th>\n",
       "      <td>abbated01</td>\n",
       "      <td>0.071616</td>\n",
       "      <td>23.709946</td>\n",
       "      <td>Normal_2</td>\n",
       "    </tr>\n",
       "    <tr>\n",
       "      <th>3</th>\n",
       "      <td>abbeybe01</td>\n",
       "      <td>0.040000</td>\n",
       "      <td>24.407297</td>\n",
       "      <td>Normal_2</td>\n",
       "    </tr>\n",
       "    <tr>\n",
       "      <th>4</th>\n",
       "      <td>abbeych01</td>\n",
       "      <td>0.123358</td>\n",
       "      <td>25.696100</td>\n",
       "      <td>Overweight_1</td>\n",
       "    </tr>\n",
       "  </tbody>\n",
       "</table>\n",
       "</div>"
      ],
      "text/plain": [
       "    playerID      IsoP        BMI     BMI_level\n",
       "0  aaronha01  0.249515  24.412140      Normal_2\n",
       "1  aaronto01  0.098517  23.748130      Normal_2\n",
       "2  abbated01  0.071616  23.709946      Normal_2\n",
       "3  abbeybe01  0.040000  24.407297      Normal_2\n",
       "4  abbeych01  0.123358  25.696100  Overweight_1"
      ]
     },
     "execution_count": 10,
     "metadata": {},
     "output_type": "execute_result"
    }
   ],
   "source": [
    "beating_players_df = pd.merge(beating_grouped.loc[:,['playerID','IsoP']], players_select.loc[:,['playerID','BMI']], \n",
    "                              on=['playerID'], how='inner')\n",
    "bmi_array = beating_players_df['BMI']\n",
    "bins = [18.5,23,25,27,30,40]\n",
    "bmi_level = ['Normal_1','Normal_2','Overweight_1','Overweight_2','Obese']\n",
    "beating_players_df['BMI_level'] = pd.cut(beating_players_df['BMI'], bins,labels = bmi_level)\n",
    "beating_players_df.head()"
   ]
  },
  {
   "cell_type": "markdown",
   "metadata": {},
   "source": [
    "#### 问题2 可视化分析\n",
    "* 直接通过点状图查看 BMI 值和 IsoP 值的相关性\n",
    "* 各BMI阶段的IsoP均值分布\n",
    "* 按照BMI阶段分组，查看各种描述性统计数据"
   ]
  },
  {
   "cell_type": "code",
   "execution_count": 11,
   "metadata": {
    "collapsed": false
   },
   "outputs": [
    {
     "data": {
      "text/plain": [
       "<matplotlib.collections.PathCollection at 0xc2dabe0>"
      ]
     },
     "execution_count": 11,
     "metadata": {},
     "output_type": "execute_result"
    },
    {
     "data": {
      "image/png": "[encoded data removed]",
      "text/plain": [
       "<matplotlib.figure.Figure at 0xc1d2f28>"
      ]
     },
     "metadata": {},
     "output_type": "display_data"
    }
   ],
   "source": [
    "plt.scatter(beating_players_df['BMI'], beating_players_df['IsoP'])"
   ]
  },
  {
   "cell_type": "markdown",
   "metadata": {},
   "source": [
    "通过点状图看不出什么明显的相关性，我们查看一下BMI值分组后的信息，以下几个图表分别是：\n",
    "* 每个BMI_level的IsoP的均值分布\n",
    "* 每个BMI_level的IsoP的箱线图比较"
   ]
  },
  {
   "cell_type": "code",
   "execution_count": 12,
   "metadata": {
    "collapsed": false
   },
   "outputs": [
    {
     "data": {
      "text/plain": [
       "<matplotlib.axes._subplots.AxesSubplot at 0xbff1198>"
      ]
     },
     "execution_count": 12,
     "metadata": {},
     "output_type": "execute_result"
    },
    {
     "data": {
      "image/png": "[encoded data removed]",
      "text/plain": [
       "<matplotlib.figure.Figure at 0xee17470>"
      ]
     },
     "metadata": {},
     "output_type": "display_data"
    }
   ],
   "source": [
    "sns.barplot(beating_players_df['BMI_level'], beating_players_df['IsoP'], palette=\"Blues_d\")"
   ]
  },
  {
   "cell_type": "code",
   "execution_count": 13,
   "metadata": {
    "collapsed": false
   },
   "outputs": [
    {
     "data": {
      "text/plain": [
       "<matplotlib.axes._subplots.AxesSubplot at 0xf0f3e10>"
      ]
     },
     "execution_count": 13,
     "metadata": {},
     "output_type": "execute_result"
    },
    {
     "data": {
      "image/png": "[encoded data removed]",
      "text/plain": [
       "<matplotlib.figure.Figure at 0x48a56d8>"
      ]
     },
     "metadata": {},
     "output_type": "display_data"
    }
   ],
   "source": [
    "sns.boxplot(x=\"BMI_level\", y=\"IsoP\", data=beating_players_df, palette=\"Blues_d\", width=0.8)"
   ]
  },
  {
   "cell_type": "code",
   "execution_count": 14,
   "metadata": {
    "collapsed": false
   },
   "outputs": [
    {
     "data": {
      "text/html": [
       "<div>\n",
       "<table border=\"1\" class=\"dataframe\">\n",
       "  <thead>\n",
       "    <tr>\n",
       "      <th></th>\n",
       "      <th colspan=\"5\" halign=\"left\">IsoP</th>\n",
       "    </tr>\n",
       "    <tr>\n",
       "      <th></th>\n",
       "      <th>count</th>\n",
       "      <th>mean</th>\n",
       "      <th>median</th>\n",
       "      <th>max</th>\n",
       "      <th>min</th>\n",
       "    </tr>\n",
       "    <tr>\n",
       "      <th>BMI_level</th>\n",
       "      <th></th>\n",
       "      <th></th>\n",
       "      <th></th>\n",
       "      <th></th>\n",
       "      <th></th>\n",
       "    </tr>\n",
       "  </thead>\n",
       "  <tbody>\n",
       "    <tr>\n",
       "      <th>Normal_1</th>\n",
       "      <td>985</td>\n",
       "      <td>0.072603</td>\n",
       "      <td>0.066424</td>\n",
       "      <td>0.265406</td>\n",
       "      <td>0.002000</td>\n",
       "    </tr>\n",
       "    <tr>\n",
       "      <th>Normal_2</th>\n",
       "      <td>3248</td>\n",
       "      <td>0.083352</td>\n",
       "      <td>0.077401</td>\n",
       "      <td>0.308825</td>\n",
       "      <td>0.002334</td>\n",
       "    </tr>\n",
       "    <tr>\n",
       "      <th>Overweight_1</th>\n",
       "      <td>2921</td>\n",
       "      <td>0.098944</td>\n",
       "      <td>0.093975</td>\n",
       "      <td>0.325360</td>\n",
       "      <td>0.003247</td>\n",
       "    </tr>\n",
       "    <tr>\n",
       "      <th>Overweight_2</th>\n",
       "      <td>1083</td>\n",
       "      <td>0.119504</td>\n",
       "      <td>0.119540</td>\n",
       "      <td>0.347702</td>\n",
       "      <td>0.002933</td>\n",
       "    </tr>\n",
       "    <tr>\n",
       "      <th>Obese</th>\n",
       "      <td>171</td>\n",
       "      <td>0.135171</td>\n",
       "      <td>0.136698</td>\n",
       "      <td>0.277725</td>\n",
       "      <td>0.002604</td>\n",
       "    </tr>\n",
       "  </tbody>\n",
       "</table>\n",
       "</div>"
      ],
      "text/plain": [
       "              IsoP                                        \n",
       "             count      mean    median       max       min\n",
       "BMI_level                                                 \n",
       "Normal_1       985  0.072603  0.066424  0.265406  0.002000\n",
       "Normal_2      3248  0.083352  0.077401  0.308825  0.002334\n",
       "Overweight_1  2921  0.098944  0.093975  0.325360  0.003247\n",
       "Overweight_2  1083  0.119504  0.119540  0.347702  0.002933\n",
       "Obese          171  0.135171  0.136698  0.277725  0.002604"
      ]
     },
     "execution_count": 14,
     "metadata": {},
     "output_type": "execute_result"
    }
   ],
   "source": [
    "isop_bmi_togroup = beating_players_df[['IsoP','BMI_level']]\n",
    "functions = ['count','mean','median','max','min']\n",
    "isop_bmi_grouped = isop_bmi_togroup.groupby(['BMI_level']).agg(functions)\n",
    "isop_bmi_grouped"
   ]
  },
  {
   "cell_type": "markdown",
   "metadata": {},
   "source": [
    "按照BMI_level分组，查看各项信息，Obese等级的数量较少，其他几个阶段的样本量还是比较多的，比较有参考价值。"
   ]
  },
  {
   "cell_type": "markdown",
   "metadata": {},
   "source": [
    "#### 问题2结论\n",
    "通过整理数据并可视化分析，可以看出，各 BMI 阶段的 IsoP 均值分布和箱线图的分布趋势，都是随着BMI阶段的提升而提升的。BMI值和球员的长打能力确实有一定的正相关性。一开始的猜测为，标准和超重两个范围内会较强，这个有点想当然了，运动员基本上不会有极端的体形，本来就集中在标准和超重这两个范围内。\n",
    "* 而在所有人都处于标准，超重和小部分“肥胖”（运动员应该是强壮）的情况下，BMI值越高，运动员的纯长达能力就可能越强。"
   ]
  },
  {
   "cell_type": "markdown",
   "metadata": {},
   "source": [
    "#### 问题3：服役年限与当年纯长打率的相关性\n"
   ]
  },
  {
   "cell_type": "code",
   "execution_count": 15,
   "metadata": {
    "collapsed": false
   },
   "outputs": [
    {
     "data": {
      "text/html": [
       "<div>\n",
       "<table border=\"1\" class=\"dataframe\">\n",
       "  <thead>\n",
       "    <tr style=\"text-align: right;\">\n",
       "      <th></th>\n",
       "      <th>playerID</th>\n",
       "      <th>yearID</th>\n",
       "      <th>AB</th>\n",
       "      <th>H</th>\n",
       "      <th>2B</th>\n",
       "      <th>3B</th>\n",
       "      <th>HR</th>\n",
       "      <th>IsoP</th>\n",
       "    </tr>\n",
       "  </thead>\n",
       "  <tbody>\n",
       "    <tr>\n",
       "      <th>97</th>\n",
       "      <td>abbotje01</td>\n",
       "      <td>1998</td>\n",
       "      <td>244.0</td>\n",
       "      <td>68.0</td>\n",
       "      <td>14.0</td>\n",
       "      <td>1.0</td>\n",
       "      <td>12.0</td>\n",
       "      <td>0.213115</td>\n",
       "    </tr>\n",
       "    <tr>\n",
       "      <th>98</th>\n",
       "      <td>abbotje01</td>\n",
       "      <td>1999</td>\n",
       "      <td>57.0</td>\n",
       "      <td>9.0</td>\n",
       "      <td>0.0</td>\n",
       "      <td>0.0</td>\n",
       "      <td>2.0</td>\n",
       "      <td>0.105263</td>\n",
       "    </tr>\n",
       "    <tr>\n",
       "      <th>99</th>\n",
       "      <td>abbotje01</td>\n",
       "      <td>2000</td>\n",
       "      <td>215.0</td>\n",
       "      <td>59.0</td>\n",
       "      <td>15.0</td>\n",
       "      <td>1.0</td>\n",
       "      <td>3.0</td>\n",
       "      <td>0.120930</td>\n",
       "    </tr>\n",
       "    <tr>\n",
       "      <th>114</th>\n",
       "      <td>abbotku01</td>\n",
       "      <td>1996</td>\n",
       "      <td>320.0</td>\n",
       "      <td>81.0</td>\n",
       "      <td>18.0</td>\n",
       "      <td>7.0</td>\n",
       "      <td>8.0</td>\n",
       "      <td>0.175000</td>\n",
       "    </tr>\n",
       "    <tr>\n",
       "      <th>115</th>\n",
       "      <td>abbotku01</td>\n",
       "      <td>1997</td>\n",
       "      <td>252.0</td>\n",
       "      <td>69.0</td>\n",
       "      <td>18.0</td>\n",
       "      <td>2.0</td>\n",
       "      <td>6.0</td>\n",
       "      <td>0.158730</td>\n",
       "    </tr>\n",
       "  </tbody>\n",
       "</table>\n",
       "</div>"
      ],
      "text/plain": [
       "      playerID  yearID     AB     H    2B   3B    HR      IsoP\n",
       "97   abbotje01    1998  244.0  68.0  14.0  1.0  12.0  0.213115\n",
       "98   abbotje01    1999   57.0   9.0   0.0  0.0   2.0  0.105263\n",
       "99   abbotje01    2000  215.0  59.0  15.0  1.0   3.0  0.120930\n",
       "114  abbotku01    1996  320.0  81.0  18.0  7.0   8.0  0.175000\n",
       "115  abbotku01    1997  252.0  69.0  18.0  2.0   6.0  0.158730"
      ]
     },
     "execution_count": 15,
     "metadata": {},
     "output_type": "execute_result"
    }
   ],
   "source": [
    "players_select2 = players_df[['playerID','debut']]\n",
    "beating_select2 = beating_df[['playerID','yearID','AB','H','2B','3B','HR']]\n",
    "beating_grouped2 = beating_select2.groupby(['playerID','yearID'], as_index = False).sum()\n",
    "beating_grouped2 = beating_grouped2[beating_grouped2['AB'] > 50]\n",
    "beating_grouped2['IsoP'] = (beating_grouped2['H'] + beating_grouped2['2B'] + (2 * beating_grouped2['3B']) + (3 * beating_grouped2['HR'])) / beating_grouped2['AB'] - beating_grouped2['H'] / beating_grouped2['AB']\n",
    "beating_grouped2 = beating_grouped2[(beating_grouped2['IsoP'] > 0)&(beating_grouped2['yearID'] > 1995)]\n",
    "beating_grouped2.head()"
   ]
  },
  {
   "cell_type": "code",
   "execution_count": 16,
   "metadata": {
    "collapsed": true
   },
   "outputs": [],
   "source": [
    "#格式转换\n",
    "from dateutil.parser import parse\n",
    "from types import *\n",
    "def parse_date(date):\n",
    "    if type(date) is StringType:\n",
    "        date = parse(date)\n",
    "        return date"
   ]
  },
  {
   "cell_type": "code",
   "execution_count": 17,
   "metadata": {
    "collapsed": false
   },
   "outputs": [],
   "source": [
    "beating_players_year = pd.merge(beating_grouped2.loc[:,['playerID','yearID','IsoP']], players_select2.loc[:,['playerID','debut']], \n",
    "                              on=['playerID'], how='inner')\n",
    "beating_players_year['debut'] = beating_players_year['debut'].apply(parse_date)\n",
    "beating_players_year['career'] = beating_players_year['yearID'] - beating_players_year['debut'].dt.year\n",
    "del beating_players_year['yearID']\n",
    "del beating_players_year['debut']"
   ]
  },
  {
   "cell_type": "code",
   "execution_count": 18,
   "metadata": {
    "collapsed": false
   },
   "outputs": [
    {
     "data": {
      "text/html": [
       "<div>\n",
       "<table border=\"1\" class=\"dataframe\">\n",
       "  <thead>\n",
       "    <tr style=\"text-align: right;\">\n",
       "      <th></th>\n",
       "      <th>playerID</th>\n",
       "      <th>IsoP</th>\n",
       "    </tr>\n",
       "    <tr>\n",
       "      <th>career</th>\n",
       "      <th></th>\n",
       "      <th></th>\n",
       "    </tr>\n",
       "  </thead>\n",
       "  <tbody>\n",
       "    <tr>\n",
       "      <th>0</th>\n",
       "      <td>863</td>\n",
       "      <td>863</td>\n",
       "    </tr>\n",
       "    <tr>\n",
       "      <th>1</th>\n",
       "      <td>1020</td>\n",
       "      <td>1020</td>\n",
       "    </tr>\n",
       "    <tr>\n",
       "      <th>2</th>\n",
       "      <td>1044</td>\n",
       "      <td>1044</td>\n",
       "    </tr>\n",
       "    <tr>\n",
       "      <th>3</th>\n",
       "      <td>968</td>\n",
       "      <td>968</td>\n",
       "    </tr>\n",
       "    <tr>\n",
       "      <th>4</th>\n",
       "      <td>943</td>\n",
       "      <td>943</td>\n",
       "    </tr>\n",
       "    <tr>\n",
       "      <th>5</th>\n",
       "      <td>847</td>\n",
       "      <td>847</td>\n",
       "    </tr>\n",
       "    <tr>\n",
       "      <th>6</th>\n",
       "      <td>782</td>\n",
       "      <td>782</td>\n",
       "    </tr>\n",
       "    <tr>\n",
       "      <th>7</th>\n",
       "      <td>707</td>\n",
       "      <td>707</td>\n",
       "    </tr>\n",
       "    <tr>\n",
       "      <th>8</th>\n",
       "      <td>614</td>\n",
       "      <td>614</td>\n",
       "    </tr>\n",
       "    <tr>\n",
       "      <th>9</th>\n",
       "      <td>548</td>\n",
       "      <td>548</td>\n",
       "    </tr>\n",
       "    <tr>\n",
       "      <th>10</th>\n",
       "      <td>487</td>\n",
       "      <td>487</td>\n",
       "    </tr>\n",
       "    <tr>\n",
       "      <th>11</th>\n",
       "      <td>409</td>\n",
       "      <td>409</td>\n",
       "    </tr>\n",
       "    <tr>\n",
       "      <th>12</th>\n",
       "      <td>317</td>\n",
       "      <td>317</td>\n",
       "    </tr>\n",
       "    <tr>\n",
       "      <th>13</th>\n",
       "      <td>241</td>\n",
       "      <td>241</td>\n",
       "    </tr>\n",
       "    <tr>\n",
       "      <th>14</th>\n",
       "      <td>179</td>\n",
       "      <td>179</td>\n",
       "    </tr>\n",
       "    <tr>\n",
       "      <th>15</th>\n",
       "      <td>133</td>\n",
       "      <td>133</td>\n",
       "    </tr>\n",
       "    <tr>\n",
       "      <th>16</th>\n",
       "      <td>95</td>\n",
       "      <td>95</td>\n",
       "    </tr>\n",
       "    <tr>\n",
       "      <th>17</th>\n",
       "      <td>63</td>\n",
       "      <td>63</td>\n",
       "    </tr>\n",
       "    <tr>\n",
       "      <th>18</th>\n",
       "      <td>41</td>\n",
       "      <td>41</td>\n",
       "    </tr>\n",
       "    <tr>\n",
       "      <th>19</th>\n",
       "      <td>25</td>\n",
       "      <td>25</td>\n",
       "    </tr>\n",
       "    <tr>\n",
       "      <th>20</th>\n",
       "      <td>18</td>\n",
       "      <td>18</td>\n",
       "    </tr>\n",
       "    <tr>\n",
       "      <th>21</th>\n",
       "      <td>12</td>\n",
       "      <td>12</td>\n",
       "    </tr>\n",
       "    <tr>\n",
       "      <th>22</th>\n",
       "      <td>5</td>\n",
       "      <td>5</td>\n",
       "    </tr>\n",
       "    <tr>\n",
       "      <th>23</th>\n",
       "      <td>4</td>\n",
       "      <td>4</td>\n",
       "    </tr>\n",
       "    <tr>\n",
       "      <th>24</th>\n",
       "      <td>2</td>\n",
       "      <td>2</td>\n",
       "    </tr>\n",
       "    <tr>\n",
       "      <th>25</th>\n",
       "      <td>1</td>\n",
       "      <td>1</td>\n",
       "    </tr>\n",
       "  </tbody>\n",
       "</table>\n",
       "</div>"
      ],
      "text/plain": [
       "        playerID  IsoP\n",
       "career                \n",
       "0            863   863\n",
       "1           1020  1020\n",
       "2           1044  1044\n",
       "3            968   968\n",
       "4            943   943\n",
       "5            847   847\n",
       "6            782   782\n",
       "7            707   707\n",
       "8            614   614\n",
       "9            548   548\n",
       "10           487   487\n",
       "11           409   409\n",
       "12           317   317\n",
       "13           241   241\n",
       "14           179   179\n",
       "15           133   133\n",
       "16            95    95\n",
       "17            63    63\n",
       "18            41    41\n",
       "19            25    25\n",
       "20            18    18\n",
       "21            12    12\n",
       "22             5     5\n",
       "23             4     4\n",
       "24             2     2\n",
       "25             1     1"
      ]
     },
     "execution_count": 18,
     "metadata": {},
     "output_type": "execute_result"
    }
   ],
   "source": [
    "beating_players_year_count = beating_players_year.groupby(['career']).count()\n",
    "beating_players_year_count"
   ]
  },
  {
   "cell_type": "markdown",
   "metadata": {},
   "source": [
    "服役年限越长，样本数量级越小，服役15年以上的基本上都很少了，数量级少的时候，纯长打率的分布特别分散，不太有参考价值。可以截取前15年的数据看一下分布情况。\n",
    "* 截取0-15年的数据\n",
    "* 查看均值柱状图分布\n",
    "* 箱线图分布对比"
   ]
  },
  {
   "cell_type": "code",
   "execution_count": 19,
   "metadata": {
    "collapsed": true
   },
   "outputs": [],
   "source": [
    "beating_players_year = beating_players_year[(beating_players_year['career'] >= 0)&(beating_players_year['career']<=15)]"
   ]
  },
  {
   "cell_type": "code",
   "execution_count": 20,
   "metadata": {
    "collapsed": false
   },
   "outputs": [
    {
     "data": {
      "text/plain": [
       "<matplotlib.axes._subplots.AxesSubplot at 0xe92c160>"
      ]
     },
     "execution_count": 20,
     "metadata": {},
     "output_type": "execute_result"
    },
    {
     "data": {
      "image/png": "[encoded data removed]",
      "text/plain": [
       "<matplotlib.figure.Figure at 0xf1f8470>"
      ]
     },
     "metadata": {},
     "output_type": "display_data"
    }
   ],
   "source": [
    "sns.barplot(beating_players_year['career'], beating_players_year['IsoP'], palette=\"Blues_d\")"
   ]
  },
  {
   "cell_type": "code",
   "execution_count": 21,
   "metadata": {
    "collapsed": false
   },
   "outputs": [
    {
     "data": {
      "text/plain": [
       "<matplotlib.axes._subplots.AxesSubplot at 0x112ad9b0>"
      ]
     },
     "execution_count": 21,
     "metadata": {},
     "output_type": "execute_result"
    },
    {
     "data": {
      "image/png": "[encoded data removed]",
      "text/plain": [
       "<matplotlib.figure.Figure at 0xef632b0>"
      ]
     },
     "metadata": {},
     "output_type": "display_data"
    }
   ],
   "source": [
    "sns.boxplot(x=\"career\", y=\"IsoP\", data=beating_players_year, palette=\"Blues_d\")"
   ]
  },
  {
   "cell_type": "markdown",
   "metadata": {},
   "source": [
    "#### 问题3结论\n",
    "单纯看0-3年的数据情况，可以看到均值和中位数都是递增的，然而幅度很小。对于0-15年整体来看，每年纯长打率均值和箱线图分布，可以看出没有特别大的变化，并不能证明这个范围内有什么正相关或负相关。虽然对于棒球运动来说，运动生涯已经比其他的运动项目的时间长，然而如果一个人在经历过自己的能力高峰之后，状态下滑太明显，可能就会选择退役了。所以整体没有一个特别大的变化也是合理的结论。"
   ]
  },
  {
   "cell_type": "markdown",
   "metadata": {},
   "source": [
    "## 总结\n",
    "\n",
    "### 问题结论汇总\n",
    "\n",
    "1. 出生月份是否与成为明星球员有相关性？提出问题只是因为冰球运动员的那个数据分析结论，猜测不相关，实际确实没有特别明显的分布差异。\n",
    "2. 身体条件（BMI标准体重）与纯长打率（衡量长打能力的指标）的相关性？猜测处于标准和超重的人有更好的长打能力。事实是，大部分的球员都处于这两个范围内，而在将标准和超重分别分为两部分，再加上“肥胖”，一共5个范围分析后发现，BMI值越高的范围，纯长打率越高（均值，中位数，箱线图分布证明），长达能力越强。\n",
    "3. 服役年限与当年纯长打率的相关性？猜测为服役前期上升，服役后期下降。然而，只有一个小小的趋势证明在服役前3年是上升的，整体来看没有特别大的差异，对于运动员来说，如果后期能力下降太多，可能就会选择退役了，如果退役，就没有了数据体现。\n",
    "\n",
    "### 本次分析的局限性\n",
    "\n",
    "1. 对棒球运动不是足够了解，很多相关知识只是通过搜素引擎来获取，不一定准确；\n",
    "2. BMI值，对于运动员来说，超重和肥胖，其实都不是脂肪引起的，而是肌肉带来的，但是这个用法不知道是否科学，没有理论支撑；\n",
    "3. 每年的纯长打率随着服役年限的变化，是否有相应的变化。这个问题研究的是整体数据，按照服役年限分组，有可能同一组中的球员是不同时代的球员，虽然有控制截取1995年以后的球员数据，然而影响纯长打率有很多其他因素没有得到控制，单纯只分析服役年限和当年的纯长打率，可参考性并不大。"
   ]
  },
  {
   "cell_type": "markdown",
   "metadata": {},
   "source": [
    "## 参考网站：\n",
    "1. [轻松看懂棒球统计数据-打击数据篇](http://terryex.pixnet.net/blog/post/36215363)\n",
    "2. [棒球统计-维基百科](https://zh.wikipedia.org/wiki/%E6%A3%92%E7%90%83%E7%B5%B1%E8%A8%88)\n",
    "3. [《点球成金》豆瓣电影](https://movie.douban.com/subject/3023164/)\n",
    "4. [浅谈如何判别打击三围](https://www.sportsv.net/articles/13549)\n",
    "5. [打击三围-台湾棒球维基馆](http://twbsball.dils.tku.edu.tw/wiki/index.php/%E6%89%93%E6%93%8A%E4%B8%89%E5%9C%8D)\n",
    "6. [如何计算长打率](http://www.wikihow.com/Calculate-Slugging-Percentage)\n",
    "7. [纯长打率-维基百科](https://zh.wikipedia.org/wiki/%E7%B4%94%E9%95%B7%E6%89%93%E7%8E%87)"
   ]
  }
 ],
 "metadata": {
  "anaconda-cloud": {},
  "kernelspec": {
   "display_name": "Python [default]",
   "language": "python",
   "name": "python2"
  },
  "language_info": {
   "codemirror_mode": {
    "name": "ipython",
    "version": 2
   },
   "file_extension": ".py",
   "mimetype": "text/x-python",
   "name": "python",
   "nbconvert_exporter": "python",
   "pygments_lexer": "ipython2",
   "version": "2.7.13"
  }
 },
 "nbformat": 4,
 "nbformat_minor": 1
}
